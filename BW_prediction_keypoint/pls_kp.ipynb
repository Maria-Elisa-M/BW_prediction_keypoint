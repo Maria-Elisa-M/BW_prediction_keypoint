{
  "cells": [
    {
      "cell_type": "code",
      "execution_count": null,
      "metadata": {
        "colab": {
          "base_uri": "https://localhost:8080/"
        },
        "id": "e_9miAwsjMDl",
        "outputId": "bc092dd5-de63-4bd1-a4bf-0cebbd4dd731"
      },
      "outputs": [
        {
          "name": "stdout",
          "output_type": "stream",
          "text": [
            "Mounted at /content/drive\n"
          ]
        }
      ],
      "source": [
        "import os\n",
        "!git clone https://github.com/Maria-Elisa-M/BW_prediction_keypoint.git"
      ]
    },
    {
      "cell_type": "code",
      "execution_count": 4,
      "metadata": {
        "id": "x7B5R9DCi3b5"
      },
      "outputs": [],
      "source": [
        "import os\n",
        "import pandas as pd\n",
        "import numpy as np\n",
        "from sklearn.preprocessing import MinMaxScaler\n",
        "from sklearn.model_selection import KFold\n",
        "from sklearn.metrics import mean_squared_error, mean_absolute_error\n",
        "from sklearn.cross_decomposition import PLSRegression\n",
        "import matplotlib.pyplot as plt"
      ]
    },
    {
      "cell_type": "code",
      "execution_count": null,
      "metadata": {
        "colab": {
          "base_uri": "https://localhost:8080/",
          "height": 339
        },
        "id": "mFS35041jGOf",
        "outputId": "2cc94368-3a09-40d1-fb24-f8c320b34cf6"
      },
      "outputs": [
        {
          "ename": "FileNotFoundError",
          "evalue": "[Errno 2] No such file or directory: '/content/drive/MyDrive/BW_prediction_keypoint/depth/output/results_bw.csv'",
          "output_type": "error",
          "traceback": [
            "\u001b[0;31m---------------------------------------------------------------------------\u001b[0m",
            "\u001b[0;31mFileNotFoundError\u001b[0m                         Traceback (most recent call last)",
            "\u001b[0;32m<ipython-input-5-bd71e7bfcf8f>\u001b[0m in \u001b[0;36m<cell line: 0>\u001b[0;34m()\u001b[0m\n\u001b[1;32m      2\u001b[0m \u001b[0mmain_dir\u001b[0m \u001b[0;34m=\u001b[0m \u001b[0;34m'/content/drive/MyDrive/BW_prediction_keypoint/depth/output'\u001b[0m\u001b[0;34m\u001b[0m\u001b[0;34m\u001b[0m\u001b[0m\n\u001b[1;32m      3\u001b[0m \u001b[0;31m# Load the dataset\u001b[0m\u001b[0;34m\u001b[0m\u001b[0;34m\u001b[0m\u001b[0m\n\u001b[0;32m----> 4\u001b[0;31m \u001b[0mBD\u001b[0m \u001b[0;34m=\u001b[0m \u001b[0mpd\u001b[0m\u001b[0;34m.\u001b[0m\u001b[0mread_csv\u001b[0m\u001b[0;34m(\u001b[0m\u001b[0mos\u001b[0m\u001b[0;34m.\u001b[0m\u001b[0mpath\u001b[0m\u001b[0;34m.\u001b[0m\u001b[0mjoin\u001b[0m\u001b[0;34m(\u001b[0m\u001b[0mmain_dir\u001b[0m\u001b[0;34m,\u001b[0m\u001b[0;34m\"results_bw.csv\"\u001b[0m\u001b[0;34m)\u001b[0m\u001b[0;34m)\u001b[0m\u001b[0;34m\u001b[0m\u001b[0;34m\u001b[0m\u001b[0m\n\u001b[0m",
            "\u001b[0;32m/usr/local/lib/python3.11/dist-packages/pandas/io/parsers/readers.py\u001b[0m in \u001b[0;36mread_csv\u001b[0;34m(filepath_or_buffer, sep, delimiter, header, names, index_col, usecols, dtype, engine, converters, true_values, false_values, skipinitialspace, skiprows, skipfooter, nrows, na_values, keep_default_na, na_filter, verbose, skip_blank_lines, parse_dates, infer_datetime_format, keep_date_col, date_parser, date_format, dayfirst, cache_dates, iterator, chunksize, compression, thousands, decimal, lineterminator, quotechar, quoting, doublequote, escapechar, comment, encoding, encoding_errors, dialect, on_bad_lines, delim_whitespace, low_memory, memory_map, float_precision, storage_options, dtype_backend)\u001b[0m\n\u001b[1;32m   1024\u001b[0m     \u001b[0mkwds\u001b[0m\u001b[0;34m.\u001b[0m\u001b[0mupdate\u001b[0m\u001b[0;34m(\u001b[0m\u001b[0mkwds_defaults\u001b[0m\u001b[0;34m)\u001b[0m\u001b[0;34m\u001b[0m\u001b[0;34m\u001b[0m\u001b[0m\n\u001b[1;32m   1025\u001b[0m \u001b[0;34m\u001b[0m\u001b[0m\n\u001b[0;32m-> 1026\u001b[0;31m     \u001b[0;32mreturn\u001b[0m \u001b[0m_read\u001b[0m\u001b[0;34m(\u001b[0m\u001b[0mfilepath_or_buffer\u001b[0m\u001b[0;34m,\u001b[0m \u001b[0mkwds\u001b[0m\u001b[0;34m)\u001b[0m\u001b[0;34m\u001b[0m\u001b[0;34m\u001b[0m\u001b[0m\n\u001b[0m\u001b[1;32m   1027\u001b[0m \u001b[0;34m\u001b[0m\u001b[0m\n\u001b[1;32m   1028\u001b[0m \u001b[0;34m\u001b[0m\u001b[0m\n",
            "\u001b[0;32m/usr/local/lib/python3.11/dist-packages/pandas/io/parsers/readers.py\u001b[0m in \u001b[0;36m_read\u001b[0;34m(filepath_or_buffer, kwds)\u001b[0m\n\u001b[1;32m    618\u001b[0m \u001b[0;34m\u001b[0m\u001b[0m\n\u001b[1;32m    619\u001b[0m     \u001b[0;31m# Create the parser.\u001b[0m\u001b[0;34m\u001b[0m\u001b[0;34m\u001b[0m\u001b[0m\n\u001b[0;32m--> 620\u001b[0;31m     \u001b[0mparser\u001b[0m \u001b[0;34m=\u001b[0m \u001b[0mTextFileReader\u001b[0m\u001b[0;34m(\u001b[0m\u001b[0mfilepath_or_buffer\u001b[0m\u001b[0;34m,\u001b[0m \u001b[0;34m**\u001b[0m\u001b[0mkwds\u001b[0m\u001b[0;34m)\u001b[0m\u001b[0;34m\u001b[0m\u001b[0;34m\u001b[0m\u001b[0m\n\u001b[0m\u001b[1;32m    621\u001b[0m \u001b[0;34m\u001b[0m\u001b[0m\n\u001b[1;32m    622\u001b[0m     \u001b[0;32mif\u001b[0m \u001b[0mchunksize\u001b[0m \u001b[0;32mor\u001b[0m \u001b[0miterator\u001b[0m\u001b[0;34m:\u001b[0m\u001b[0;34m\u001b[0m\u001b[0;34m\u001b[0m\u001b[0m\n",
            "\u001b[0;32m/usr/local/lib/python3.11/dist-packages/pandas/io/parsers/readers.py\u001b[0m in \u001b[0;36m__init__\u001b[0;34m(self, f, engine, **kwds)\u001b[0m\n\u001b[1;32m   1618\u001b[0m \u001b[0;34m\u001b[0m\u001b[0m\n\u001b[1;32m   1619\u001b[0m         \u001b[0mself\u001b[0m\u001b[0;34m.\u001b[0m\u001b[0mhandles\u001b[0m\u001b[0;34m:\u001b[0m \u001b[0mIOHandles\u001b[0m \u001b[0;34m|\u001b[0m \u001b[0;32mNone\u001b[0m \u001b[0;34m=\u001b[0m \u001b[0;32mNone\u001b[0m\u001b[0;34m\u001b[0m\u001b[0;34m\u001b[0m\u001b[0m\n\u001b[0;32m-> 1620\u001b[0;31m         \u001b[0mself\u001b[0m\u001b[0;34m.\u001b[0m\u001b[0m_engine\u001b[0m \u001b[0;34m=\u001b[0m \u001b[0mself\u001b[0m\u001b[0;34m.\u001b[0m\u001b[0m_make_engine\u001b[0m\u001b[0;34m(\u001b[0m\u001b[0mf\u001b[0m\u001b[0;34m,\u001b[0m \u001b[0mself\u001b[0m\u001b[0;34m.\u001b[0m\u001b[0mengine\u001b[0m\u001b[0;34m)\u001b[0m\u001b[0;34m\u001b[0m\u001b[0;34m\u001b[0m\u001b[0m\n\u001b[0m\u001b[1;32m   1621\u001b[0m \u001b[0;34m\u001b[0m\u001b[0m\n\u001b[1;32m   1622\u001b[0m     \u001b[0;32mdef\u001b[0m \u001b[0mclose\u001b[0m\u001b[0;34m(\u001b[0m\u001b[0mself\u001b[0m\u001b[0;34m)\u001b[0m \u001b[0;34m->\u001b[0m \u001b[0;32mNone\u001b[0m\u001b[0;34m:\u001b[0m\u001b[0;34m\u001b[0m\u001b[0;34m\u001b[0m\u001b[0m\n",
            "\u001b[0;32m/usr/local/lib/python3.11/dist-packages/pandas/io/parsers/readers.py\u001b[0m in \u001b[0;36m_make_engine\u001b[0;34m(self, f, engine)\u001b[0m\n\u001b[1;32m   1878\u001b[0m                 \u001b[0;32mif\u001b[0m \u001b[0;34m\"b\"\u001b[0m \u001b[0;32mnot\u001b[0m \u001b[0;32min\u001b[0m \u001b[0mmode\u001b[0m\u001b[0;34m:\u001b[0m\u001b[0;34m\u001b[0m\u001b[0;34m\u001b[0m\u001b[0m\n\u001b[1;32m   1879\u001b[0m                     \u001b[0mmode\u001b[0m \u001b[0;34m+=\u001b[0m \u001b[0;34m\"b\"\u001b[0m\u001b[0;34m\u001b[0m\u001b[0;34m\u001b[0m\u001b[0m\n\u001b[0;32m-> 1880\u001b[0;31m             self.handles = get_handle(\n\u001b[0m\u001b[1;32m   1881\u001b[0m                 \u001b[0mf\u001b[0m\u001b[0;34m,\u001b[0m\u001b[0;34m\u001b[0m\u001b[0;34m\u001b[0m\u001b[0m\n\u001b[1;32m   1882\u001b[0m                 \u001b[0mmode\u001b[0m\u001b[0;34m,\u001b[0m\u001b[0;34m\u001b[0m\u001b[0;34m\u001b[0m\u001b[0m\n",
            "\u001b[0;32m/usr/local/lib/python3.11/dist-packages/pandas/io/common.py\u001b[0m in \u001b[0;36mget_handle\u001b[0;34m(path_or_buf, mode, encoding, compression, memory_map, is_text, errors, storage_options)\u001b[0m\n\u001b[1;32m    871\u001b[0m         \u001b[0;32mif\u001b[0m \u001b[0mioargs\u001b[0m\u001b[0;34m.\u001b[0m\u001b[0mencoding\u001b[0m \u001b[0;32mand\u001b[0m \u001b[0;34m\"b\"\u001b[0m \u001b[0;32mnot\u001b[0m \u001b[0;32min\u001b[0m \u001b[0mioargs\u001b[0m\u001b[0;34m.\u001b[0m\u001b[0mmode\u001b[0m\u001b[0;34m:\u001b[0m\u001b[0;34m\u001b[0m\u001b[0;34m\u001b[0m\u001b[0m\n\u001b[1;32m    872\u001b[0m             \u001b[0;31m# Encoding\u001b[0m\u001b[0;34m\u001b[0m\u001b[0;34m\u001b[0m\u001b[0m\n\u001b[0;32m--> 873\u001b[0;31m             handle = open(\n\u001b[0m\u001b[1;32m    874\u001b[0m                 \u001b[0mhandle\u001b[0m\u001b[0;34m,\u001b[0m\u001b[0;34m\u001b[0m\u001b[0;34m\u001b[0m\u001b[0m\n\u001b[1;32m    875\u001b[0m                 \u001b[0mioargs\u001b[0m\u001b[0;34m.\u001b[0m\u001b[0mmode\u001b[0m\u001b[0;34m,\u001b[0m\u001b[0;34m\u001b[0m\u001b[0;34m\u001b[0m\u001b[0m\n",
            "\u001b[0;31mFileNotFoundError\u001b[0m: [Errno 2] No such file or directory: '/content/drive/MyDrive/BW_prediction_keypoint/depth/output/results_bw.csv'"
          ]
        }
      ],
      "source": [
        "os.chdir('BW_prediction_keypoint')\n",
        "main_dir = 'depth/output'\n",
        "# Load the dataset\n",
        "BD = pd.read_csv(os.path.join(main_dir,\"results_bw.csv\"))"
      ]
    },
    {
      "cell_type": "code",
      "execution_count": null,
      "metadata": {
        "id": "Myu7CutRjCb7"
      },
      "outputs": [],
      "source": [
        "# Define the columns for features and response\n",
        "features = BD.columns[16:37]\n",
        "Resp = BD.columns[37]\n",
        "\n",
        "num_features = len(features)\n",
        "print(\"Number of features:\", num_features)\n",
        "\n",
        "# Normalize the features\n",
        "scaler = MinMaxScaler()\n",
        "BD[features] = scaler.fit_transform(BD[features])\n",
        "\n",
        "# Set seed for reproducibility\n",
        "np.random.seed(123)\n",
        "\n",
        "# Get unique IDs\n",
        "ids = BD['cow'].unique()\n",
        "\n",
        "# Initialize list for predictions\n",
        "predictions = []\n",
        "\n",
        "# Loop through each unique ID\n",
        "for i in range(len(ids)):\n",
        "    # Split data into training and test sets\n",
        "    train = BD[BD['cow'] != ids[i]]\n",
        "    test = BD[BD['cow'] == ids[i]]\n",
        "\n",
        "    X_train = train[features]\n",
        "    y_train = train[Resp]\n",
        "\n",
        "    X_test = test[features]\n",
        "    y_test = test[Resp]\n",
        "\n",
        "\n",
        "    kf = KFold(n_splits=10, shuffle=True, random_state=123)\n",
        "\n",
        "    # Initialize variables to store best hyperparameters and RMSE\n",
        "    best_rmse = np.inf\n",
        "    best_n_components = None\n",
        "\n",
        "    # Iterate over possible number of components for PLS\n",
        "    for n_components in range(1, num_features+1):\n",
        "        fold_rmse = []\n",
        "\n",
        "        for train_index, valid_index in kf.split(X_train):\n",
        "            X_tr, X_val = X_train.iloc[train_index], X_train.iloc[valid_index]\n",
        "            y_tr, y_val = y_train.iloc[train_index], y_train.iloc[valid_index]\n",
        "\n",
        "            # Train the PLS model with current number of components\n",
        "            model = PLSRegression(n_components=n_components)\n",
        "            model.fit(X_tr, y_tr)\n",
        "\n",
        "            # Perform prediction on the validation set\n",
        "            predictions_valid = model.predict(X_val)\n",
        "\n",
        "            rmse = np.sqrt(mean_squared_error(y_val, predictions_valid))\n",
        "            fold_rmse.append(rmse)\n",
        "\n",
        "        avg_rmse = np.mean(fold_rmse)\n",
        "\n",
        "        # Check if current number of components is the best so far\n",
        "        if avg_rmse < best_rmse:\n",
        "            best_rmse = avg_rmse\n",
        "            best_n_components = n_components\n",
        "\n",
        "    # Train the final model with the best number of components\n",
        "    final_model = PLSRegression(n_components=best_n_components)\n",
        "    final_model.fit(X_train, y_train)\n",
        "\n",
        "    # Print the final model and best number of components\n",
        "    print(f\"Best number of components for ID {ids[i]}:\", best_n_components)\n",
        "    print(final_model)\n",
        "\n",
        "    # Make predictions\n",
        "    pred = pd.DataFrame({\n",
        "        'Obs': y_test,\n",
        "        'Pred': final_model.predict(X_test).flatten(),  # Flatten the predictions array\n",
        "        'Num': test['cow'],\n",
        "        'Best': str(best_n_components),\n",
        "        'Day': test['day']\n",
        "    })\n",
        "\n",
        "    # Append to predictions list\n",
        "    predictions.append(pred)\n",
        "\n",
        "# Combine results into data frame\n",
        "final_predictions_pls = pd.concat(predictions, ignore_index=True)\n",
        "\n",
        "# Print the final predictions\n",
        "print(final_predictions_pls)\n",
        "\n",
        "# Mean Squared Error\n",
        "mse = mean_squared_error(final_predictions_pls['Obs'], final_predictions_pls['Pred'])\n",
        "print(\"Mean Squared Error:\", mse)\n",
        "\n",
        "# Root Mean Squared Error\n",
        "rmse = np.sqrt(mse)\n",
        "print(\"Root Mean Squared Error:\", rmse)\n",
        "\n",
        "# Root Mean Squared Error Percentage\n",
        "rmsep = rmse / final_predictions_pls['Obs'].mean() * 100\n",
        "print(\"Root Mean Squared Error %:\", rmsep)\n",
        "\n",
        "# Mean Absolute Error\n",
        "mae = mean_absolute_error(final_predictions_pls['Obs'], final_predictions_pls['Pred'])\n",
        "print(\"Mean Absolute Error:\", mae)\n",
        "\n",
        "# Predictive Correlation\n",
        "correl = np.corrcoef(final_predictions_pls['Obs'], final_predictions_pls['Pred'])[0, 1] ** 2\n",
        "print(\"Predictive Correlation:\", correl)\n",
        "\n",
        "# Save metrics in a DataFrame\n",
        "metrics = pd.DataFrame({\n",
        "    'Metric': [\n",
        "        'Mean Squared Error',\n",
        "        'Root Mean Squared Error',\n",
        "        'Root Mean Squared Error %',\n",
        "        'Mean Absolute Error',\n",
        "        'Predictive Correlation'\n",
        "    ],\n",
        "    'Value': [mse, rmse, rmsep, mae, correl]\n",
        "})\n",
        "\n",
        "# Print the metrics DataFrame\n",
        "print(metrics)\n",
        "\n"
      ]
    },
    {
      "cell_type": "code",
      "execution_count": null,
      "metadata": {
        "id": "HJdY4iaHjD-f"
      },
      "outputs": [],
      "source": [
        "# Plot Predicted vs Observed\n",
        "plt.scatter(final_predictions_pls['Pred'], final_predictions_pls['Obs'])\n",
        "plt.xlabel('Predicted')\n",
        "plt.ylabel('Observed')\n",
        "plt.title('Predicted vs Observed')\n",
        "plt.show()\n"
      ]
    }
  ],
  "metadata": {
    "colab": {
      "provenance": []
    },
    "kernelspec": {
      "display_name": "Python 3",
      "name": "python3"
    },
    "language_info": {
      "name": "python"
    }
  },
  "nbformat": 4,
  "nbformat_minor": 0
}
