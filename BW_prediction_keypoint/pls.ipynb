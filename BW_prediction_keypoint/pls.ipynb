{
 "cells": [
  {
   "cell_type": "code",
   "execution_count": null,
   "metadata": {
    "colab": {
     "base_uri": "https://localhost:8080/"
    },
    "executionInfo": {
     "elapsed": 364,
     "status": "ok",
     "timestamp": 1740519948723,
     "user": {
      "displayName": "Maria Elisa Montes Gonzalez",
      "userId": "04792630582788233084"
     },
     "user_tz": 360
    },
    "id": "Bg4ml9bJCDVD",
    "outputId": "9f207467-1af0-433b-bce6-2b8016e1bd51"
   },
   "outputs": [
    {
     "name": "stdout",
     "output_type": "stream",
     "text": [
      "Drive already mounted at /content/drive; to attempt to forcibly remount, call drive.mount(\"/content/drive\", force_remount=True).\n"
     ]
    }
   ],
   "source": [
    "import os\n",
    "!git clone https://github.com/Maria-Elisa-M/BW_prediction_keypoint.git"
   ]
  },
  {
   "cell_type": "code",
   "execution_count": 10,
   "metadata": {
    "executionInfo": {
     "elapsed": 2,
     "status": "ok",
     "timestamp": 1740519949522,
     "user": {
      "displayName": "Maria Elisa Montes Gonzalez",
      "userId": "04792630582788233084"
     },
     "user_tz": 360
    },
    "id": "KLq-RGTIB5-C"
   },
   "outputs": [],
   "source": [
    "import pandas as pd\n",
    "import numpy as np\n",
    "from sklearn.preprocessing import MinMaxScaler\n",
    "from sklearn.model_selection import KFold\n",
    "from sklearn.metrics import mean_squared_error, mean_absolute_error\n",
    "from sklearn.cross_decomposition import PLSRegression\n",
    "import matplotlib.pyplot as plt\n",
    "import os"
   ]
  },
  {
   "cell_type": "code",
   "execution_count": null,
   "metadata": {
    "executionInfo": {
     "elapsed": 270,
     "status": "ok",
     "timestamp": 1740520509097,
     "user": {
      "displayName": "Maria Elisa Montes Gonzalez",
      "userId": "04792630582788233084"
     },
     "user_tz": 360
    },
    "id": "hxraK5H7BxH7"
   },
   "outputs": [],
   "source": [
    "os.chdir('BW_prediction_keypoint')\n",
    "# Define directories\n",
    "main_dir = 'depth/output'\n",
    "# Load the dataset\n",
    "BD = pd.read_csv(os.path.join(main_dir,\"results_bw.csv\"))"
   ]
  },
  {
   "cell_type": "code",
   "execution_count": 15,
   "metadata": {
    "colab": {
     "base_uri": "https://localhost:8080/"
    },
    "executionInfo": {
     "elapsed": 44,
     "status": "ok",
     "timestamp": 1740520515003,
     "user": {
      "displayName": "Maria Elisa Montes Gonzalez",
      "userId": "04792630582788233084"
     },
     "user_tz": 360
    },
    "id": "AqHFJxbYB-hq",
    "outputId": "d716aa20-a373-49ad-f199-c9b38fc8e666"
   },
   "outputs": [
    {
     "name": "stdout",
     "output_type": "stream",
     "text": [
      "Number of features: 29\n"
     ]
    }
   ],
   "source": [
    "# Define the columns for features and response\n",
    "features = BD.columns[2:31]\n",
    "Resp = BD.columns[31]\n",
    "\n",
    "num_features = len(features)\n",
    "print(\"Number of features:\", num_features)\n",
    "\n",
    "# Normalize the features\n",
    "scaler = MinMaxScaler()\n",
    "BD[features] = scaler.fit_transform(BD[features])\n",
    "\n",
    "# Set seed for reproducibility\n",
    "np.random.seed(123)\n",
    "\n",
    "# Get unique IDs\n",
    "ids = BD['cow'].unique()\n",
    "\n",
    "# Initialize list for predictions\n",
    "predictions = []"
   ]
  },
  {
   "cell_type": "code",
   "execution_count": 18,
   "metadata": {
    "colab": {
     "base_uri": "https://localhost:8080/"
    },
    "executionInfo": {
     "elapsed": 138760,
     "status": "ok",
     "timestamp": 1740520668272,
     "user": {
      "displayName": "Maria Elisa Montes Gonzalez",
      "userId": "04792630582788233084"
     },
     "user_tz": 360
    },
    "id": "e88JQHrTBsxm",
    "outputId": "cbaf93e2-ffc4-44a2-fb92-9c97f7fe4a56"
   },
   "outputs": [
    {
     "name": "stdout",
     "output_type": "stream",
     "text": [
      "Best number of components for ID 4487: 7\n",
      "PLSRegression(n_components=7)\n",
      "Best number of components for ID 4489: 7\n",
      "PLSRegression(n_components=7)\n",
      "Best number of components for ID 4491: 7\n",
      "PLSRegression(n_components=7)\n",
      "Best number of components for ID 4492: 7\n",
      "PLSRegression(n_components=7)\n",
      "Best number of components for ID 4498: 7\n",
      "PLSRegression(n_components=7)\n",
      "Best number of components for ID 4499: 8\n",
      "PLSRegression(n_components=8)\n",
      "Best number of components for ID 4500: 6\n",
      "PLSRegression(n_components=6)\n",
      "Best number of components for ID 4503: 7\n",
      "PLSRegression(n_components=7)\n",
      "Best number of components for ID 4505: 7\n",
      "PLSRegression(n_components=7)\n",
      "Best number of components for ID 4507: 6\n",
      "PLSRegression(n_components=6)\n",
      "Best number of components for ID 4509: 6\n",
      "PLSRegression(n_components=6)\n",
      "Best number of components for ID 4511: 7\n",
      "PLSRegression(n_components=7)\n",
      "Best number of components for ID 4514: 7\n",
      "PLSRegression(n_components=7)\n",
      "Best number of components for ID 4525: 6\n",
      "PLSRegression(n_components=6)\n",
      "Best number of components for ID 4532: 6\n",
      "PLSRegression(n_components=6)\n",
      "Best number of components for ID 4533: 6\n",
      "PLSRegression(n_components=6)\n",
      "Best number of components for ID 4535: 6\n",
      "PLSRegression(n_components=6)\n",
      "Best number of components for ID 4544: 6\n",
      "PLSRegression(n_components=6)\n",
      "Best number of components for ID 4545: 6\n",
      "PLSRegression(n_components=6)\n",
      "Best number of components for ID 4550: 6\n",
      "PLSRegression(n_components=6)\n",
      "Best number of components for ID 4573: 6\n",
      "PLSRegression(n_components=6)\n",
      "Best number of components for ID 4574: 6\n",
      "PLSRegression(n_components=6)\n",
      "Best number of components for ID 4577: 6\n",
      "PLSRegression(n_components=6)\n",
      "Best number of components for ID 4579: 6\n",
      "PLSRegression(n_components=6)\n",
      "Best number of components for ID 4580: 6\n",
      "PLSRegression(n_components=6)\n",
      "Best number of components for ID 4587: 6\n",
      "PLSRegression(n_components=6)\n",
      "Best number of components for ID 4589: 6\n",
      "PLSRegression(n_components=6)\n",
      "Best number of components for ID 4593: 7\n",
      "PLSRegression(n_components=7)\n",
      "Best number of components for ID 4607: 7\n",
      "PLSRegression(n_components=7)\n",
      "Best number of components for ID 4608: 7\n",
      "PLSRegression(n_components=7)\n",
      "Best number of components for ID 4609: 7\n",
      "PLSRegression(n_components=7)\n",
      "Best number of components for ID 4610: 7\n",
      "PLSRegression(n_components=7)\n",
      "Best number of components for ID 4612: 7\n",
      "PLSRegression(n_components=7)\n",
      "Best number of components for ID 4614: 7\n",
      "PLSRegression(n_components=7)\n",
      "Best number of components for ID 4616: 7\n",
      "PLSRegression(n_components=7)\n",
      "Best number of components for ID 4619: 7\n",
      "PLSRegression(n_components=7)\n",
      "Best number of components for ID 4625: 6\n",
      "PLSRegression(n_components=6)\n",
      "Best number of components for ID 4626: 6\n",
      "PLSRegression(n_components=6)\n",
      "Best number of components for ID 4627: 7\n",
      "PLSRegression(n_components=7)\n",
      "Best number of components for ID 4632: 7\n",
      "PLSRegression(n_components=7)\n",
      "Best number of components for ID 4636: 6\n",
      "PLSRegression(n_components=6)\n",
      "Best number of components for ID 4637: 6\n",
      "PLSRegression(n_components=6)\n",
      "Best number of components for ID 4639: 7\n",
      "PLSRegression(n_components=7)\n",
      "Best number of components for ID 4640: 6\n",
      "PLSRegression(n_components=6)\n",
      "Best number of components for ID 4642: 7\n",
      "PLSRegression(n_components=7)\n",
      "Best number of components for ID 4643: 6\n",
      "PLSRegression(n_components=6)\n",
      "Best number of components for ID 4644: 7\n",
      "PLSRegression(n_components=7)\n",
      "Best number of components for ID 4645: 6\n",
      "PLSRegression(n_components=6)\n",
      "Best number of components for ID 4646: 7\n",
      "PLSRegression(n_components=7)\n",
      "Best number of components for ID 4650: 6\n",
      "PLSRegression(n_components=6)\n",
      "Best number of components for ID 4655: 6\n",
      "PLSRegression(n_components=6)\n",
      "Best number of components for ID 4657: 7\n",
      "PLSRegression(n_components=7)\n",
      "Best number of components for ID 4661: 8\n",
      "PLSRegression(n_components=8)\n",
      "Best number of components for ID 4666: 8\n",
      "PLSRegression(n_components=8)\n",
      "Best number of components for ID 4670: 7\n",
      "PLSRegression(n_components=7)\n",
      "Best number of components for ID 4675: 8\n",
      "PLSRegression(n_components=8)\n",
      "Best number of components for ID 4685: 7\n",
      "PLSRegression(n_components=7)\n",
      "Best number of components for ID 4687: 7\n",
      "PLSRegression(n_components=7)\n",
      "Best number of components for ID 4688: 7\n",
      "PLSRegression(n_components=7)\n",
      "Best number of components for ID 4689: 7\n",
      "PLSRegression(n_components=7)\n",
      "Best number of components for ID 4690: 7\n",
      "PLSRegression(n_components=7)\n",
      "Best number of components for ID 4691: 7\n",
      "PLSRegression(n_components=7)\n",
      "Best number of components for ID 4692: 7\n",
      "PLSRegression(n_components=7)\n",
      "Best number of components for ID 4696: 7\n",
      "PLSRegression(n_components=7)\n",
      "Best number of components for ID 4697: 7\n",
      "PLSRegression(n_components=7)\n",
      "Best number of components for ID 4698: 7\n",
      "PLSRegression(n_components=7)\n",
      "Best number of components for ID 4706: 7\n",
      "PLSRegression(n_components=7)\n",
      "Best number of components for ID 4710: 7\n",
      "PLSRegression(n_components=7)\n"
     ]
    }
   ],
   "source": [
    "# Loop through each unique ID\n",
    "for i in range(len(ids)):\n",
    "    # Split data into training and test sets\n",
    "    train = BD[BD['cow'] != ids[i]]\n",
    "    test = BD[BD['cow'] == ids[i]]\n",
    "\n",
    "    X_train = train[features]\n",
    "    y_train = train[Resp]\n",
    "\n",
    "    X_test = test[features]\n",
    "    y_test = test[Resp]\n",
    "\n",
    "\n",
    "    kf = KFold(n_splits=10, shuffle=True, random_state=123)\n",
    "\n",
    "    # Initialize variables to store best hyperparameters and RMSE\n",
    "    best_rmse = np.inf\n",
    "    best_n_components = None\n",
    "\n",
    "    # Iterate over possible number of components for PLS\n",
    "    for n_components in range(1, num_features+1):\n",
    "        fold_rmse = []\n",
    "\n",
    "        for train_index, valid_index in kf.split(X_train):\n",
    "            X_tr, X_val = X_train.iloc[train_index], X_train.iloc[valid_index]\n",
    "            y_tr, y_val = y_train.iloc[train_index], y_train.iloc[valid_index]\n",
    "\n",
    "            # Train the PLS model with current number of components\n",
    "            model = PLSRegression(n_components=n_components)\n",
    "            model.fit(X_tr, y_tr)\n",
    "\n",
    "            # Perform prediction on the validation set\n",
    "            predictions_valid = model.predict(X_val)\n",
    "\n",
    "            rmse = np.sqrt(mean_squared_error(y_val, predictions_valid))\n",
    "            fold_rmse.append(rmse)\n",
    "\n",
    "        avg_rmse = np.mean(fold_rmse)\n",
    "\n",
    "        # Check if current number of components is the best so far\n",
    "        if avg_rmse < best_rmse:\n",
    "            best_rmse = avg_rmse\n",
    "            best_n_components = n_components\n",
    "\n",
    "    # Train the final model with the best number of components\n",
    "    final_model = PLSRegression(n_components=best_n_components)\n",
    "    final_model.fit(X_train, y_train)\n",
    "\n",
    "    # Print the final model and best number of components\n",
    "    print(f\"Best number of components for ID {ids[i]}:\", best_n_components)\n",
    "    print(final_model)\n",
    "\n",
    "    # Make predictions\n",
    "    pred = pd.DataFrame({\n",
    "        'Obs': y_test,\n",
    "        'Pred': final_model.predict(X_test).flatten(),  # Flatten the predictions array\n",
    "        'Num': test['cow'],\n",
    "        'Best': str(best_n_components),\n",
    "        'Day': test['day']\n",
    "    })\n",
    "\n",
    "    # Append to predictions list\n",
    "    predictions.append(pred)"
   ]
  },
  {
   "cell_type": "code",
   "execution_count": 19,
   "metadata": {
    "colab": {
     "base_uri": "https://localhost:8080/"
    },
    "executionInfo": {
     "elapsed": 20,
     "status": "ok",
     "timestamp": 1740520668293,
     "user": {
      "displayName": "Maria Elisa Montes Gonzalez",
      "userId": "04792630582788233084"
     },
     "user_tz": 360
    },
    "id": "6LLyqpwGBkOf",
    "outputId": "18f49701-0f38-44ef-aa54-325bc2caf75d"
   },
   "outputs": [
    {
     "name": "stdout",
     "output_type": "stream",
     "text": [
      "     Obs         Pred   Num Best       Day\n",
      "0   1334  1339.626284  4487    7  20220726\n",
      "1   1466  1393.479932  4487    7  20220808\n",
      "2   1456  1354.388671  4487    7  20220815\n",
      "3   1092  1113.476937  4489    7  20220726\n",
      "4   1194  1181.133458  4489    7  20220808\n",
      "..   ...          ...   ...  ...       ...\n",
      "95   486   470.525937  4696    7  20220726\n",
      "96   494   423.173997  4697    7  20220726\n",
      "97   518   530.174879  4698    7  20220726\n",
      "98   462   468.222729  4706    7  20220726\n",
      "99   546   543.691624  4710    7  20220726\n",
      "\n",
      "[100 rows x 5 columns]\n",
      "Mean Squared Error: 2348.1984236287594\n",
      "Root Mean Squared Error: 48.45821316999585\n",
      "Root Mean Squared Error %: 5.1099010007166195\n",
      "Mean Absolute Error: 38.18772944288866\n",
      "Predictive Correlation: 0.967013080671833\n",
      "                      Metric        Value\n",
      "0         Mean Squared Error  2348.198424\n",
      "1    Root Mean Squared Error    48.458213\n",
      "2  Root Mean Squared Error %     5.109901\n",
      "3        Mean Absolute Error    38.187729\n",
      "4     Predictive Correlation     0.967013\n"
     ]
    }
   ],
   "source": [
    "# Combine results into data frame\n",
    "final_predictions_pls = pd.concat(predictions, ignore_index=True)\n",
    "\n",
    "# Print the final predictions\n",
    "print(final_predictions_pls)\n",
    "\n",
    "# Mean Squared Error\n",
    "mse = mean_squared_error(final_predictions_pls['Obs'], final_predictions_pls['Pred'])\n",
    "print(\"Mean Squared Error:\", mse)\n",
    "\n",
    "# Root Mean Squared Error\n",
    "rmse = np.sqrt(mse)\n",
    "print(\"Root Mean Squared Error:\", rmse)\n",
    "\n",
    "# Root Mean Squared Error Percentage\n",
    "rmsep = rmse / final_predictions_pls['Obs'].mean() * 100\n",
    "print(\"Root Mean Squared Error %:\", rmsep)\n",
    "\n",
    "# Mean Absolute Error\n",
    "mae = mean_absolute_error(final_predictions_pls['Obs'], final_predictions_pls['Pred'])\n",
    "print(\"Mean Absolute Error:\", mae)\n",
    "\n",
    "# Predictive Correlation\n",
    "correl = np.corrcoef(final_predictions_pls['Obs'], final_predictions_pls['Pred'])[0, 1] ** 2\n",
    "print(\"Predictive Correlation:\", correl)\n",
    "\n",
    "# Save metrics in a DataFrame\n",
    "metrics = pd.DataFrame({\n",
    "    'Metric': [\n",
    "        'Mean Squared Error',\n",
    "        'Root Mean Squared Error',\n",
    "        'Root Mean Squared Error %',\n",
    "        'Mean Absolute Error',\n",
    "        'Predictive Correlation'\n",
    "    ],\n",
    "    'Value': [mse, rmse, rmsep, mae, correl]\n",
    "})\n",
    "\n",
    "# Print the metrics DataFrame\n",
    "print(metrics)"
   ]
  },
  {
   "cell_type": "code",
   "execution_count": 20,
   "metadata": {
    "colab": {
     "base_uri": "https://localhost:8080/",
     "height": 472
    },
    "executionInfo": {
     "elapsed": 462,
     "status": "ok",
     "timestamp": 1740520668756,
     "user": {
      "displayName": "Maria Elisa Montes Gonzalez",
      "userId": "04792630582788233084"
     },
     "user_tz": 360
    },
    "id": "oi48kvbvBeLW",
    "outputId": "4b371e92-410d-486f-80bf-d6a471137355"
   },
   "outputs": [
    {
     "data": {
      "image/png": "[encoded data removed]",
      "text/plain": [
       "<Figure size 640x480 with 1 Axes>"
      ]
     },
     "metadata": {},
     "output_type": "display_data"
    }
   ],
   "source": [
    "# Plot Predicted vs Observed\n",
    "plt.scatter(final_predictions_pls['Pred'], final_predictions_pls['Obs'])\n",
    "plt.xlabel('Predicted')\n",
    "plt.ylabel('Observed')\n",
    "plt.title('Predicted vs Observed')\n",
    "plt.show()"
   ]
  }
 ],
 "metadata": {
  "colab": {
   "authorship_tag": "ABX9TyO5TcVh2CEtppgyyQKxAByb",
   "provenance": []
  },
  "kernelspec": {
   "display_name": "Python 3",
   "name": "python3"
  },
  "language_info": {
   "name": "python"
  }
 },
 "nbformat": 4,
 "nbformat_minor": 0
}
